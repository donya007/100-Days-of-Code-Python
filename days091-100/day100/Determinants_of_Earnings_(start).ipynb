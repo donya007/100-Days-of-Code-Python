{
  "cells": [
    {
      "cell_type": "markdown",
      "metadata": {
        "id": "BHg0HZz-intQ"
      },
      "source": [
        "# Introduction"
      ]
    },
    {
      "cell_type": "markdown",
      "metadata": {
        "id": "V2RQkgAbiqJv"
      },
      "source": [
        "The National Longitudinal Survey of Youth 1997-2011 dataset is one of the most important databases available to social scientists working with US data. \n",
        "\n",
        "It allows scientists to look at the determinants of earnings as well as educational attainment and has incredible relevance for government policy. It can also shed light on politically sensitive issues like how different educational attainment and salaries are for people of different ethnicity, sex, and other factors. When we have a better understanding how these variables affect education and earnings we can also formulate more suitable government policies. \n",
        "\n",
        "<center><img src=https://i.imgur.com/cxBpQ3I.png height=400></center>\n"
      ]
    },
    {
      "cell_type": "markdown",
      "metadata": {
        "id": "YjCPWWUSirY_"
      },
      "source": [
        "### Upgrade Plotly"
      ]
    },
    {
      "cell_type": "code",
      "execution_count": null,
      "metadata": {
        "id": "v74l3QCGirIX"
      },
      "outputs": [],
      "source": [
        "%pip install --upgrade plotly"
      ]
    },
    {
      "cell_type": "markdown",
      "metadata": {
        "id": "br_QkHBMjC1Q"
      },
      "source": [
        "###  Import Statements\n"
      ]
    },
    {
      "cell_type": "code",
      "execution_count": 1,
      "metadata": {
        "id": "gSKZx-kwie_u"
      },
      "outputs": [],
      "source": [
        "import pandas as pd\n",
        "import numpy as np\n",
        "\n",
        "import seaborn as sns\n",
        "import plotly.express as px\n",
        "import matplotlib.pyplot as plt\n",
        "\n",
        "from sklearn.linear_model import LinearRegression\n",
        "from sklearn.model_selection import train_test_split"
      ]
    },
    {
      "cell_type": "markdown",
      "metadata": {
        "id": "9pgsrth_izCn"
      },
      "source": [
        "## Notebook Presentation"
      ]
    },
    {
      "cell_type": "code",
      "execution_count": 2,
      "metadata": {
        "id": "Cgwu-WbBizqY"
      },
      "outputs": [],
      "source": [
        "pd.options.display.float_format = '{:,.2f}'.format"
      ]
    },
    {
      "cell_type": "markdown",
      "metadata": {
        "id": "E5bhysOOjLRr"
      },
      "source": [
        "# Load the Data\n",
        "\n"
      ]
    },
    {
      "cell_type": "code",
      "execution_count": 3,
      "metadata": {
        "id": "6VngeTQwjM-X"
      },
      "outputs": [],
      "source": [
        "df_data = pd.read_csv('data/NLSY97_subset.csv')"
      ]
    },
    {
      "cell_type": "markdown",
      "metadata": {
        "id": "_ZjIBJ5jjrj0"
      },
      "source": [
        "### Understand the Dataset\n",
        "\n",
        "Have a look at the file entitled `NLSY97_Variable_Names_and_Descriptions.csv`. \n",
        "\n",
        "---------------------------\n",
        "\n",
        "    :Key Variables:  \n",
        "      1. S           Years of schooling (highest grade completed as of 2011)\n",
        "      2. EXP         Total out-of-school work experience (years) as of the 2011 interview.\n",
        "      3. EARNINGS    Current hourly earnings in $ reported at the 2011 interview"
      ]
    },
    {
      "cell_type": "markdown",
      "metadata": {
        "id": "8MkSxkjVnIfW"
      },
      "source": [
        "# Preliminary Data Exploration 🔎\n",
        "\n",
        "**Challenge**\n",
        "\n",
        "* What is the shape of `df_data`? \n",
        "* How many rows and columns does it have?\n",
        "* What are the column names?\n",
        "* Are there any NaN values or duplicates?"
      ]
    },
    {
      "cell_type": "code",
      "execution_count": 5,
      "metadata": {
        "id": "V_cQguBbjwZv"
      },
      "outputs": [
        {
          "data": {
            "text/plain": [
              "(2000, 96)"
            ]
          },
          "execution_count": 5,
          "metadata": {},
          "output_type": "execute_result"
        }
      ],
      "source": [
        "df_data.shape"
      ]
    },
    {
      "cell_type": "code",
      "execution_count": 18,
      "metadata": {},
      "outputs": [
        {
          "data": {
            "text/plain": [
              "Index(['ID', 'EARNINGS', 'S', 'EXP', 'FEMALE', 'MALE', 'BYEAR', 'AGE',\n",
              "       'AGEMBTH', 'HHINC97', 'POVRAT97', 'HHBMBF', 'HHBMOF', 'HHOMBF',\n",
              "       'HHBMONLY', 'HHBFONLY', 'HHOTHER', 'MSA97NO', 'MSA97NCC', 'MSA97CC',\n",
              "       'MSA97NK', 'ETHBLACK', 'ETHHISP', 'ETHWHITE', 'EDUCPROF', 'EDUCPHD',\n",
              "       'EDUCMAST', 'EDUCBA', 'EDUCAA', 'EDUCHSD', 'EDUCGED', 'EDUCDO',\n",
              "       'PRMONM', 'PRMONF', 'PRMSTYUN', 'PRMSTYPE', 'PRMSTYAN', 'PRMSTYAE',\n",
              "       'PRFSTYUN', 'PRFSTYPE', 'PRFSTYAN', 'PRFSTYAE', 'SINGLE', 'MARRIED',\n",
              "       'COHABIT', 'OTHSING', 'FAITHN', 'FAITHP', 'FAITHC', 'FAITHJ', 'FAITHO',\n",
              "       'FAITHM', 'ASVABAR', 'ASVABWK', 'ASVABPC', 'ASVABMK', 'ASVABNO',\n",
              "       'ASVABCS', 'ASVABC', 'ASVABC4', 'VERBAL', 'ASVABMV', 'HEIGHT',\n",
              "       'WEIGHT04', 'WEIGHT11', 'SF', 'SM', 'SFR', 'SMR', 'SIBLINGS', 'REG97NE',\n",
              "       'REG97NC', 'REG97S', 'REG97W', 'RS97RURL', 'RS97URBN', 'RS97UNKN',\n",
              "       'JOBS', 'HOURS', 'TENURE', 'CATGOV', 'CATPRI', 'CATNPO', 'CATMIS',\n",
              "       'CATSE', 'COLLBARG', 'URBAN', 'REGNE', 'REGNC', 'REGW', 'REGS',\n",
              "       'MSA11NO', 'MSA11NCC', 'MSA11CC', 'MSA11NK', 'MSA11NIC'],\n",
              "      dtype='object')"
            ]
          },
          "execution_count": 18,
          "metadata": {},
          "output_type": "execute_result"
        }
      ],
      "source": [
        "df_data.columns"
      ]
    },
    {
      "cell_type": "code",
      "execution_count": 21,
      "metadata": {},
      "outputs": [
        {
          "data": {
            "text/plain": [
              "(ID          1487\n",
              " EARNINGS    1487\n",
              " S           1487\n",
              " EXP         1487\n",
              " FEMALE      1487\n",
              "             ... \n",
              " MSA11NO     1487\n",
              " MSA11NCC    1487\n",
              " MSA11CC     1487\n",
              " MSA11NK     1487\n",
              " MSA11NIC    1487\n",
              " Length: 96, dtype: int64,\n",
              " 1487)"
            ]
          },
          "execution_count": 21,
          "metadata": {},
          "output_type": "execute_result"
        }
      ],
      "source": [
        "df_data.isnull().count(), df_data.duplicated().count()"
      ]
    },
    {
      "cell_type": "markdown",
      "metadata": {
        "id": "4itxqgP6nQj3"
      },
      "source": [
        "## Data Cleaning - Check for Missing Values and Duplicates\n",
        "\n",
        "Find and remove any duplicate rows."
      ]
    },
    {
      "cell_type": "code",
      "execution_count": 15,
      "metadata": {
        "id": "J3DHEFXWnS2N"
      },
      "outputs": [
        {
          "data": {
            "text/html": [
              "<div>\n",
              "<style scoped>\n",
              "    .dataframe tbody tr th:only-of-type {\n",
              "        vertical-align: middle;\n",
              "    }\n",
              "\n",
              "    .dataframe tbody tr th {\n",
              "        vertical-align: top;\n",
              "    }\n",
              "\n",
              "    .dataframe thead th {\n",
              "        text-align: right;\n",
              "    }\n",
              "</style>\n",
              "<table border=\"1\" class=\"dataframe\">\n",
              "  <thead>\n",
              "    <tr style=\"text-align: right;\">\n",
              "      <th></th>\n",
              "      <th>ID</th>\n",
              "      <th>EARNINGS</th>\n",
              "      <th>S</th>\n",
              "      <th>EXP</th>\n",
              "      <th>FEMALE</th>\n",
              "      <th>MALE</th>\n",
              "      <th>BYEAR</th>\n",
              "      <th>AGE</th>\n",
              "      <th>AGEMBTH</th>\n",
              "      <th>HHINC97</th>\n",
              "      <th>...</th>\n",
              "      <th>URBAN</th>\n",
              "      <th>REGNE</th>\n",
              "      <th>REGNC</th>\n",
              "      <th>REGW</th>\n",
              "      <th>REGS</th>\n",
              "      <th>MSA11NO</th>\n",
              "      <th>MSA11NCC</th>\n",
              "      <th>MSA11CC</th>\n",
              "      <th>MSA11NK</th>\n",
              "      <th>MSA11NIC</th>\n",
              "    </tr>\n",
              "  </thead>\n",
              "  <tbody>\n",
              "    <tr>\n",
              "      <th>0</th>\n",
              "      <td>4275</td>\n",
              "      <td>18.50</td>\n",
              "      <td>12</td>\n",
              "      <td>9.71</td>\n",
              "      <td>0</td>\n",
              "      <td>1</td>\n",
              "      <td>1984</td>\n",
              "      <td>27</td>\n",
              "      <td>24.00</td>\n",
              "      <td>64,000.00</td>\n",
              "      <td>...</td>\n",
              "      <td>1</td>\n",
              "      <td>0</td>\n",
              "      <td>0</td>\n",
              "      <td>1</td>\n",
              "      <td>0</td>\n",
              "      <td>0</td>\n",
              "      <td>0</td>\n",
              "      <td>1</td>\n",
              "      <td>0</td>\n",
              "      <td>0</td>\n",
              "    </tr>\n",
              "    <tr>\n",
              "      <th>1</th>\n",
              "      <td>4328</td>\n",
              "      <td>19.23</td>\n",
              "      <td>17</td>\n",
              "      <td>5.71</td>\n",
              "      <td>0</td>\n",
              "      <td>1</td>\n",
              "      <td>1982</td>\n",
              "      <td>29</td>\n",
              "      <td>32.00</td>\n",
              "      <td>6,000.00</td>\n",
              "      <td>...</td>\n",
              "      <td>2</td>\n",
              "      <td>0</td>\n",
              "      <td>0</td>\n",
              "      <td>1</td>\n",
              "      <td>0</td>\n",
              "      <td>0</td>\n",
              "      <td>1</td>\n",
              "      <td>0</td>\n",
              "      <td>0</td>\n",
              "      <td>0</td>\n",
              "    </tr>\n",
              "    <tr>\n",
              "      <th>2</th>\n",
              "      <td>8763</td>\n",
              "      <td>39.05</td>\n",
              "      <td>14</td>\n",
              "      <td>9.94</td>\n",
              "      <td>0</td>\n",
              "      <td>1</td>\n",
              "      <td>1981</td>\n",
              "      <td>30</td>\n",
              "      <td>23.00</td>\n",
              "      <td>88,252.00</td>\n",
              "      <td>...</td>\n",
              "      <td>1</td>\n",
              "      <td>0</td>\n",
              "      <td>0</td>\n",
              "      <td>0</td>\n",
              "      <td>1</td>\n",
              "      <td>0</td>\n",
              "      <td>0</td>\n",
              "      <td>1</td>\n",
              "      <td>0</td>\n",
              "      <td>0</td>\n",
              "    </tr>\n",
              "    <tr>\n",
              "      <th>3</th>\n",
              "      <td>8879</td>\n",
              "      <td>16.80</td>\n",
              "      <td>18</td>\n",
              "      <td>1.54</td>\n",
              "      <td>0</td>\n",
              "      <td>1</td>\n",
              "      <td>1983</td>\n",
              "      <td>28</td>\n",
              "      <td>30.00</td>\n",
              "      <td>NaN</td>\n",
              "      <td>...</td>\n",
              "      <td>1</td>\n",
              "      <td>0</td>\n",
              "      <td>1</td>\n",
              "      <td>0</td>\n",
              "      <td>0</td>\n",
              "      <td>0</td>\n",
              "      <td>1</td>\n",
              "      <td>0</td>\n",
              "      <td>0</td>\n",
              "      <td>0</td>\n",
              "    </tr>\n",
              "    <tr>\n",
              "      <th>4</th>\n",
              "      <td>1994</td>\n",
              "      <td>36.06</td>\n",
              "      <td>15</td>\n",
              "      <td>2.94</td>\n",
              "      <td>0</td>\n",
              "      <td>1</td>\n",
              "      <td>1984</td>\n",
              "      <td>27</td>\n",
              "      <td>23.00</td>\n",
              "      <td>44,188.00</td>\n",
              "      <td>...</td>\n",
              "      <td>1</td>\n",
              "      <td>0</td>\n",
              "      <td>0</td>\n",
              "      <td>0</td>\n",
              "      <td>1</td>\n",
              "      <td>0</td>\n",
              "      <td>0</td>\n",
              "      <td>1</td>\n",
              "      <td>0</td>\n",
              "      <td>0</td>\n",
              "    </tr>\n",
              "    <tr>\n",
              "      <th>...</th>\n",
              "      <td>...</td>\n",
              "      <td>...</td>\n",
              "      <td>...</td>\n",
              "      <td>...</td>\n",
              "      <td>...</td>\n",
              "      <td>...</td>\n",
              "      <td>...</td>\n",
              "      <td>...</td>\n",
              "      <td>...</td>\n",
              "      <td>...</td>\n",
              "      <td>...</td>\n",
              "      <td>...</td>\n",
              "      <td>...</td>\n",
              "      <td>...</td>\n",
              "      <td>...</td>\n",
              "      <td>...</td>\n",
              "      <td>...</td>\n",
              "      <td>...</td>\n",
              "      <td>...</td>\n",
              "      <td>...</td>\n",
              "      <td>...</td>\n",
              "    </tr>\n",
              "    <tr>\n",
              "      <th>1984</th>\n",
              "      <td>2400</td>\n",
              "      <td>9.00</td>\n",
              "      <td>12</td>\n",
              "      <td>10.83</td>\n",
              "      <td>1</td>\n",
              "      <td>0</td>\n",
              "      <td>1982</td>\n",
              "      <td>29</td>\n",
              "      <td>29.00</td>\n",
              "      <td>73,100.00</td>\n",
              "      <td>...</td>\n",
              "      <td>0</td>\n",
              "      <td>0</td>\n",
              "      <td>0</td>\n",
              "      <td>1</td>\n",
              "      <td>0</td>\n",
              "      <td>0</td>\n",
              "      <td>0</td>\n",
              "      <td>1</td>\n",
              "      <td>0</td>\n",
              "      <td>0</td>\n",
              "    </tr>\n",
              "    <tr>\n",
              "      <th>1989</th>\n",
              "      <td>3018</td>\n",
              "      <td>8.00</td>\n",
              "      <td>12</td>\n",
              "      <td>9.37</td>\n",
              "      <td>1</td>\n",
              "      <td>0</td>\n",
              "      <td>1982</td>\n",
              "      <td>29</td>\n",
              "      <td>23.00</td>\n",
              "      <td>66,300.00</td>\n",
              "      <td>...</td>\n",
              "      <td>1</td>\n",
              "      <td>0</td>\n",
              "      <td>1</td>\n",
              "      <td>0</td>\n",
              "      <td>0</td>\n",
              "      <td>0</td>\n",
              "      <td>1</td>\n",
              "      <td>0</td>\n",
              "      <td>0</td>\n",
              "      <td>0</td>\n",
              "    </tr>\n",
              "    <tr>\n",
              "      <th>1991</th>\n",
              "      <td>4550</td>\n",
              "      <td>8.57</td>\n",
              "      <td>17</td>\n",
              "      <td>6.29</td>\n",
              "      <td>1</td>\n",
              "      <td>0</td>\n",
              "      <td>1984</td>\n",
              "      <td>27</td>\n",
              "      <td>25.00</td>\n",
              "      <td>76,300.00</td>\n",
              "      <td>...</td>\n",
              "      <td>0</td>\n",
              "      <td>0</td>\n",
              "      <td>0</td>\n",
              "      <td>0</td>\n",
              "      <td>1</td>\n",
              "      <td>0</td>\n",
              "      <td>1</td>\n",
              "      <td>0</td>\n",
              "      <td>0</td>\n",
              "      <td>0</td>\n",
              "    </tr>\n",
              "    <tr>\n",
              "      <th>1994</th>\n",
              "      <td>3779</td>\n",
              "      <td>9.33</td>\n",
              "      <td>12</td>\n",
              "      <td>9.12</td>\n",
              "      <td>1</td>\n",
              "      <td>0</td>\n",
              "      <td>1984</td>\n",
              "      <td>27</td>\n",
              "      <td>22.00</td>\n",
              "      <td>NaN</td>\n",
              "      <td>...</td>\n",
              "      <td>1</td>\n",
              "      <td>0</td>\n",
              "      <td>0</td>\n",
              "      <td>1</td>\n",
              "      <td>0</td>\n",
              "      <td>0</td>\n",
              "      <td>1</td>\n",
              "      <td>0</td>\n",
              "      <td>0</td>\n",
              "      <td>0</td>\n",
              "    </tr>\n",
              "    <tr>\n",
              "      <th>1995</th>\n",
              "      <td>2456</td>\n",
              "      <td>14.00</td>\n",
              "      <td>8</td>\n",
              "      <td>7.87</td>\n",
              "      <td>1</td>\n",
              "      <td>0</td>\n",
              "      <td>1982</td>\n",
              "      <td>29</td>\n",
              "      <td>19.00</td>\n",
              "      <td>6,000.00</td>\n",
              "      <td>...</td>\n",
              "      <td>1</td>\n",
              "      <td>1</td>\n",
              "      <td>0</td>\n",
              "      <td>0</td>\n",
              "      <td>0</td>\n",
              "      <td>0</td>\n",
              "      <td>1</td>\n",
              "      <td>0</td>\n",
              "      <td>0</td>\n",
              "      <td>0</td>\n",
              "    </tr>\n",
              "  </tbody>\n",
              "</table>\n",
              "<p>1487 rows × 96 columns</p>\n",
              "</div>"
            ],
            "text/plain": [
              "        ID  EARNINGS   S   EXP  FEMALE  MALE  BYEAR  AGE  AGEMBTH   HHINC97  \\\n",
              "0     4275     18.50  12  9.71       0     1   1984   27    24.00 64,000.00   \n",
              "1     4328     19.23  17  5.71       0     1   1982   29    32.00  6,000.00   \n",
              "2     8763     39.05  14  9.94       0     1   1981   30    23.00 88,252.00   \n",
              "3     8879     16.80  18  1.54       0     1   1983   28    30.00       NaN   \n",
              "4     1994     36.06  15  2.94       0     1   1984   27    23.00 44,188.00   \n",
              "...    ...       ...  ..   ...     ...   ...    ...  ...      ...       ...   \n",
              "1984  2400      9.00  12 10.83       1     0   1982   29    29.00 73,100.00   \n",
              "1989  3018      8.00  12  9.37       1     0   1982   29    23.00 66,300.00   \n",
              "1991  4550      8.57  17  6.29       1     0   1984   27    25.00 76,300.00   \n",
              "1994  3779      9.33  12  9.12       1     0   1984   27    22.00       NaN   \n",
              "1995  2456     14.00   8  7.87       1     0   1982   29    19.00  6,000.00   \n",
              "\n",
              "      ...  URBAN  REGNE  REGNC  REGW  REGS  MSA11NO  MSA11NCC  MSA11CC  \\\n",
              "0     ...      1      0      0     1     0        0         0        1   \n",
              "1     ...      2      0      0     1     0        0         1        0   \n",
              "2     ...      1      0      0     0     1        0         0        1   \n",
              "3     ...      1      0      1     0     0        0         1        0   \n",
              "4     ...      1      0      0     0     1        0         0        1   \n",
              "...   ...    ...    ...    ...   ...   ...      ...       ...      ...   \n",
              "1984  ...      0      0      0     1     0        0         0        1   \n",
              "1989  ...      1      0      1     0     0        0         1        0   \n",
              "1991  ...      0      0      0     0     1        0         1        0   \n",
              "1994  ...      1      0      0     1     0        0         1        0   \n",
              "1995  ...      1      1      0     0     0        0         1        0   \n",
              "\n",
              "      MSA11NK  MSA11NIC  \n",
              "0           0         0  \n",
              "1           0         0  \n",
              "2           0         0  \n",
              "3           0         0  \n",
              "4           0         0  \n",
              "...       ...       ...  \n",
              "1984        0         0  \n",
              "1989        0         0  \n",
              "1991        0         0  \n",
              "1994        0         0  \n",
              "1995        0         0  \n",
              "\n",
              "[1487 rows x 96 columns]"
            ]
          },
          "execution_count": 15,
          "metadata": {},
          "output_type": "execute_result"
        }
      ],
      "source": [
        "df_data = df_data.drop_duplicates()\n",
        "df_data"
      ]
    },
    {
      "cell_type": "markdown",
      "metadata": {
        "id": "gGmBBPxZnVKC"
      },
      "source": [
        "## Descriptive Statistics"
      ]
    },
    {
      "cell_type": "code",
      "execution_count": 16,
      "metadata": {
        "id": "I5VP2BMVnVrt"
      },
      "outputs": [
        {
          "data": {
            "text/html": [
              "<div>\n",
              "<style scoped>\n",
              "    .dataframe tbody tr th:only-of-type {\n",
              "        vertical-align: middle;\n",
              "    }\n",
              "\n",
              "    .dataframe tbody tr th {\n",
              "        vertical-align: top;\n",
              "    }\n",
              "\n",
              "    .dataframe thead th {\n",
              "        text-align: right;\n",
              "    }\n",
              "</style>\n",
              "<table border=\"1\" class=\"dataframe\">\n",
              "  <thead>\n",
              "    <tr style=\"text-align: right;\">\n",
              "      <th></th>\n",
              "      <th>ID</th>\n",
              "      <th>EARNINGS</th>\n",
              "      <th>S</th>\n",
              "      <th>EXP</th>\n",
              "      <th>FEMALE</th>\n",
              "      <th>MALE</th>\n",
              "      <th>BYEAR</th>\n",
              "      <th>AGE</th>\n",
              "      <th>AGEMBTH</th>\n",
              "      <th>HHINC97</th>\n",
              "      <th>...</th>\n",
              "      <th>URBAN</th>\n",
              "      <th>REGNE</th>\n",
              "      <th>REGNC</th>\n",
              "      <th>REGW</th>\n",
              "      <th>REGS</th>\n",
              "      <th>MSA11NO</th>\n",
              "      <th>MSA11NCC</th>\n",
              "      <th>MSA11CC</th>\n",
              "      <th>MSA11NK</th>\n",
              "      <th>MSA11NIC</th>\n",
              "    </tr>\n",
              "  </thead>\n",
              "  <tbody>\n",
              "    <tr>\n",
              "      <th>count</th>\n",
              "      <td>1,487.00</td>\n",
              "      <td>1,487.00</td>\n",
              "      <td>1,487.00</td>\n",
              "      <td>1,487.00</td>\n",
              "      <td>1,487.00</td>\n",
              "      <td>1,487.00</td>\n",
              "      <td>1,487.00</td>\n",
              "      <td>1,487.00</td>\n",
              "      <td>1,453.00</td>\n",
              "      <td>1,205.00</td>\n",
              "      <td>...</td>\n",
              "      <td>1,487.00</td>\n",
              "      <td>1,487.00</td>\n",
              "      <td>1,487.00</td>\n",
              "      <td>1,487.00</td>\n",
              "      <td>1,487.00</td>\n",
              "      <td>1,487.00</td>\n",
              "      <td>1,487.00</td>\n",
              "      <td>1,487.00</td>\n",
              "      <td>1,487.00</td>\n",
              "      <td>1,487.00</td>\n",
              "    </tr>\n",
              "    <tr>\n",
              "      <th>mean</th>\n",
              "      <td>3,547.13</td>\n",
              "      <td>18.81</td>\n",
              "      <td>14.56</td>\n",
              "      <td>6.70</td>\n",
              "      <td>0.49</td>\n",
              "      <td>0.51</td>\n",
              "      <td>1,982.07</td>\n",
              "      <td>28.93</td>\n",
              "      <td>26.32</td>\n",
              "      <td>58,310.67</td>\n",
              "      <td>...</td>\n",
              "      <td>0.78</td>\n",
              "      <td>0.16</td>\n",
              "      <td>0.27</td>\n",
              "      <td>0.34</td>\n",
              "      <td>0.23</td>\n",
              "      <td>0.05</td>\n",
              "      <td>0.54</td>\n",
              "      <td>0.41</td>\n",
              "      <td>0.00</td>\n",
              "      <td>0.00</td>\n",
              "    </tr>\n",
              "    <tr>\n",
              "      <th>std</th>\n",
              "      <td>2,009.84</td>\n",
              "      <td>12.00</td>\n",
              "      <td>2.77</td>\n",
              "      <td>2.86</td>\n",
              "      <td>0.50</td>\n",
              "      <td>0.50</td>\n",
              "      <td>1.38</td>\n",
              "      <td>1.38</td>\n",
              "      <td>5.08</td>\n",
              "      <td>43,868.05</td>\n",
              "      <td>...</td>\n",
              "      <td>0.43</td>\n",
              "      <td>0.36</td>\n",
              "      <td>0.44</td>\n",
              "      <td>0.47</td>\n",
              "      <td>0.42</td>\n",
              "      <td>0.21</td>\n",
              "      <td>0.50</td>\n",
              "      <td>0.49</td>\n",
              "      <td>0.04</td>\n",
              "      <td>0.00</td>\n",
              "    </tr>\n",
              "    <tr>\n",
              "      <th>min</th>\n",
              "      <td>1.00</td>\n",
              "      <td>2.00</td>\n",
              "      <td>6.00</td>\n",
              "      <td>0.00</td>\n",
              "      <td>0.00</td>\n",
              "      <td>0.00</td>\n",
              "      <td>1,980.00</td>\n",
              "      <td>27.00</td>\n",
              "      <td>12.00</td>\n",
              "      <td>0.00</td>\n",
              "      <td>...</td>\n",
              "      <td>0.00</td>\n",
              "      <td>0.00</td>\n",
              "      <td>0.00</td>\n",
              "      <td>0.00</td>\n",
              "      <td>0.00</td>\n",
              "      <td>0.00</td>\n",
              "      <td>0.00</td>\n",
              "      <td>0.00</td>\n",
              "      <td>0.00</td>\n",
              "      <td>0.00</td>\n",
              "    </tr>\n",
              "    <tr>\n",
              "      <th>25%</th>\n",
              "      <td>1,888.00</td>\n",
              "      <td>11.41</td>\n",
              "      <td>12.00</td>\n",
              "      <td>4.65</td>\n",
              "      <td>0.00</td>\n",
              "      <td>0.00</td>\n",
              "      <td>1,981.00</td>\n",
              "      <td>28.00</td>\n",
              "      <td>23.00</td>\n",
              "      <td>32,000.00</td>\n",
              "      <td>...</td>\n",
              "      <td>1.00</td>\n",
              "      <td>0.00</td>\n",
              "      <td>0.00</td>\n",
              "      <td>0.00</td>\n",
              "      <td>0.00</td>\n",
              "      <td>0.00</td>\n",
              "      <td>0.00</td>\n",
              "      <td>0.00</td>\n",
              "      <td>0.00</td>\n",
              "      <td>0.00</td>\n",
              "    </tr>\n",
              "    <tr>\n",
              "      <th>50%</th>\n",
              "      <td>3,474.00</td>\n",
              "      <td>15.75</td>\n",
              "      <td>15.00</td>\n",
              "      <td>6.63</td>\n",
              "      <td>0.00</td>\n",
              "      <td>1.00</td>\n",
              "      <td>1,982.00</td>\n",
              "      <td>29.00</td>\n",
              "      <td>26.00</td>\n",
              "      <td>50,500.00</td>\n",
              "      <td>...</td>\n",
              "      <td>1.00</td>\n",
              "      <td>0.00</td>\n",
              "      <td>0.00</td>\n",
              "      <td>0.00</td>\n",
              "      <td>0.00</td>\n",
              "      <td>0.00</td>\n",
              "      <td>1.00</td>\n",
              "      <td>0.00</td>\n",
              "      <td>0.00</td>\n",
              "      <td>0.00</td>\n",
              "    </tr>\n",
              "    <tr>\n",
              "      <th>75%</th>\n",
              "      <td>5,160.50</td>\n",
              "      <td>22.60</td>\n",
              "      <td>16.00</td>\n",
              "      <td>8.71</td>\n",
              "      <td>1.00</td>\n",
              "      <td>1.00</td>\n",
              "      <td>1,983.00</td>\n",
              "      <td>30.00</td>\n",
              "      <td>30.00</td>\n",
              "      <td>72,000.00</td>\n",
              "      <td>...</td>\n",
              "      <td>1.00</td>\n",
              "      <td>0.00</td>\n",
              "      <td>1.00</td>\n",
              "      <td>1.00</td>\n",
              "      <td>0.00</td>\n",
              "      <td>0.00</td>\n",
              "      <td>1.00</td>\n",
              "      <td>1.00</td>\n",
              "      <td>0.00</td>\n",
              "      <td>0.00</td>\n",
              "    </tr>\n",
              "    <tr>\n",
              "      <th>max</th>\n",
              "      <td>8,980.00</td>\n",
              "      <td>132.89</td>\n",
              "      <td>20.00</td>\n",
              "      <td>14.73</td>\n",
              "      <td>1.00</td>\n",
              "      <td>1.00</td>\n",
              "      <td>1,984.00</td>\n",
              "      <td>31.00</td>\n",
              "      <td>45.00</td>\n",
              "      <td>246,474.00</td>\n",
              "      <td>...</td>\n",
              "      <td>2.00</td>\n",
              "      <td>1.00</td>\n",
              "      <td>1.00</td>\n",
              "      <td>1.00</td>\n",
              "      <td>1.00</td>\n",
              "      <td>1.00</td>\n",
              "      <td>1.00</td>\n",
              "      <td>1.00</td>\n",
              "      <td>1.00</td>\n",
              "      <td>0.00</td>\n",
              "    </tr>\n",
              "  </tbody>\n",
              "</table>\n",
              "<p>8 rows × 96 columns</p>\n",
              "</div>"
            ],
            "text/plain": [
              "            ID  EARNINGS        S      EXP   FEMALE     MALE    BYEAR  \\\n",
              "count 1,487.00  1,487.00 1,487.00 1,487.00 1,487.00 1,487.00 1,487.00   \n",
              "mean  3,547.13     18.81    14.56     6.70     0.49     0.51 1,982.07   \n",
              "std   2,009.84     12.00     2.77     2.86     0.50     0.50     1.38   \n",
              "min       1.00      2.00     6.00     0.00     0.00     0.00 1,980.00   \n",
              "25%   1,888.00     11.41    12.00     4.65     0.00     0.00 1,981.00   \n",
              "50%   3,474.00     15.75    15.00     6.63     0.00     1.00 1,982.00   \n",
              "75%   5,160.50     22.60    16.00     8.71     1.00     1.00 1,983.00   \n",
              "max   8,980.00    132.89    20.00    14.73     1.00     1.00 1,984.00   \n",
              "\n",
              "           AGE  AGEMBTH    HHINC97  ...    URBAN    REGNE    REGNC     REGW  \\\n",
              "count 1,487.00 1,453.00   1,205.00  ... 1,487.00 1,487.00 1,487.00 1,487.00   \n",
              "mean     28.93    26.32  58,310.67  ...     0.78     0.16     0.27     0.34   \n",
              "std       1.38     5.08  43,868.05  ...     0.43     0.36     0.44     0.47   \n",
              "min      27.00    12.00       0.00  ...     0.00     0.00     0.00     0.00   \n",
              "25%      28.00    23.00  32,000.00  ...     1.00     0.00     0.00     0.00   \n",
              "50%      29.00    26.00  50,500.00  ...     1.00     0.00     0.00     0.00   \n",
              "75%      30.00    30.00  72,000.00  ...     1.00     0.00     1.00     1.00   \n",
              "max      31.00    45.00 246,474.00  ...     2.00     1.00     1.00     1.00   \n",
              "\n",
              "          REGS  MSA11NO  MSA11NCC  MSA11CC  MSA11NK  MSA11NIC  \n",
              "count 1,487.00 1,487.00  1,487.00 1,487.00 1,487.00  1,487.00  \n",
              "mean      0.23     0.05      0.54     0.41     0.00      0.00  \n",
              "std       0.42     0.21      0.50     0.49     0.04      0.00  \n",
              "min       0.00     0.00      0.00     0.00     0.00      0.00  \n",
              "25%       0.00     0.00      0.00     0.00     0.00      0.00  \n",
              "50%       0.00     0.00      1.00     0.00     0.00      0.00  \n",
              "75%       0.00     0.00      1.00     1.00     0.00      0.00  \n",
              "max       1.00     1.00      1.00     1.00     1.00      0.00  \n",
              "\n",
              "[8 rows x 96 columns]"
            ]
          },
          "execution_count": 16,
          "metadata": {},
          "output_type": "execute_result"
        }
      ],
      "source": [
        "df_data.describe()"
      ]
    },
    {
      "cell_type": "markdown",
      "metadata": {
        "id": "9i4zHYG4nhDL"
      },
      "source": [
        "# Split Training & Test Dataset\n",
        "\n",
        "We *can't* use all the entries in our dataset to train our model. Keep 20% of the data for later as a testing dataset (out-of-sample data).  "
      ]
    },
    {
      "cell_type": "code",
      "execution_count": null,
      "metadata": {
        "id": "M_OfRSyunkA1"
      },
      "outputs": [],
      "source": []
    },
    {
      "cell_type": "markdown",
      "metadata": {
        "id": "EM99NOH0noFS"
      },
      "source": [
        "# Simple Linear Regression\n",
        "\n",
        "Only use the years of schooling to predict earnings. Use sklearn to run the regression on the training dataset. How high is the r-squared for the regression on the training data? "
      ]
    },
    {
      "cell_type": "code",
      "execution_count": null,
      "metadata": {
        "id": "J_MViuoNnvHf"
      },
      "outputs": [],
      "source": []
    },
    {
      "cell_type": "markdown",
      "metadata": {
        "id": "s2TeWKs7oJSa"
      },
      "source": [
        "### Evaluate the Coefficients of the Model\n",
        "\n",
        "Here we do a sense check on our regression coefficients. The first thing to look for is if the coefficients have the expected sign (positive or negative). \n",
        "\n",
        "Interpret the regression. How many extra dollars can one expect to earn for an additional year of schooling?"
      ]
    },
    {
      "cell_type": "code",
      "execution_count": null,
      "metadata": {
        "id": "QmhzZAmAoW4t"
      },
      "outputs": [],
      "source": []
    },
    {
      "cell_type": "code",
      "execution_count": null,
      "metadata": {
        "id": "e9hpdAt3oWnq"
      },
      "outputs": [],
      "source": []
    },
    {
      "cell_type": "markdown",
      "metadata": {
        "id": "WIyMPXXYobx8"
      },
      "source": [
        "### Analyse the Estimated Values & Regression Residuals\n",
        "\n",
        "How good our regression is also depends on the residuals - the difference between the model's predictions ( 𝑦̂ 𝑖 ) and the true values ( 𝑦𝑖 ) inside y_train. Do you see any patterns in the distribution of the residuals?"
      ]
    },
    {
      "cell_type": "code",
      "execution_count": null,
      "metadata": {
        "id": "khkgscweosP_"
      },
      "outputs": [],
      "source": []
    },
    {
      "cell_type": "code",
      "execution_count": null,
      "metadata": {
        "id": "m_diDXSXotm6"
      },
      "outputs": [],
      "source": []
    },
    {
      "cell_type": "code",
      "execution_count": null,
      "metadata": {
        "id": "6DfAEUWNosHd"
      },
      "outputs": [],
      "source": []
    },
    {
      "cell_type": "markdown",
      "metadata": {
        "id": "zNBuJ1iBnvpl"
      },
      "source": [
        "# Multivariable Regression\n",
        "\n",
        "Now use both years of schooling and the years work experience to predict earnings. How high is the r-squared for the regression on the training data? "
      ]
    },
    {
      "cell_type": "code",
      "execution_count": null,
      "metadata": {
        "id": "Ihq-C4looCSM"
      },
      "outputs": [],
      "source": []
    },
    {
      "cell_type": "code",
      "execution_count": null,
      "metadata": {
        "id": "dRhB7Iwboyfq"
      },
      "outputs": [],
      "source": []
    },
    {
      "cell_type": "markdown",
      "metadata": {
        "id": "nHDtunM0oyuk"
      },
      "source": [
        "### Evaluate the Coefficients of the Model"
      ]
    },
    {
      "cell_type": "code",
      "execution_count": null,
      "metadata": {
        "id": "5vasqInIoydB"
      },
      "outputs": [],
      "source": []
    },
    {
      "cell_type": "markdown",
      "metadata": {
        "id": "Yv8q90IYou2Q"
      },
      "source": [
        "### Analyse the Estimated Values & Regression Residuals"
      ]
    },
    {
      "cell_type": "code",
      "execution_count": null,
      "metadata": {
        "id": "8NmXnsxfowkI"
      },
      "outputs": [],
      "source": []
    },
    {
      "cell_type": "code",
      "execution_count": null,
      "metadata": {
        "id": "0ZZ1e0spo5o1"
      },
      "outputs": [],
      "source": []
    },
    {
      "cell_type": "markdown",
      "metadata": {
        "id": "YWNeoqPLpjVb"
      },
      "source": [
        "# Use Your Model to Make a Prediction\n",
        "\n",
        "How much can someone with a bachelors degree (12 + 4) years of schooling and 5 years work experience expect to earn in 2011?"
      ]
    },
    {
      "cell_type": "code",
      "execution_count": null,
      "metadata": {
        "id": "Mof-14lCpv60"
      },
      "outputs": [],
      "source": []
    },
    {
      "cell_type": "code",
      "execution_count": null,
      "metadata": {
        "id": "3htX8_SBpvyb"
      },
      "outputs": [],
      "source": []
    },
    {
      "cell_type": "markdown",
      "metadata": {
        "id": "TIYI-eQepDSQ"
      },
      "source": [
        "# Experiment and Investigate Further\n",
        "\n",
        "Which other features could you consider adding to further improve the regression to better predict earnings? "
      ]
    },
    {
      "cell_type": "code",
      "execution_count": null,
      "metadata": {
        "id": "sd07-pKopJgo"
      },
      "outputs": [],
      "source": []
    },
    {
      "cell_type": "code",
      "execution_count": null,
      "metadata": {
        "id": "Fohe2-Rdp1MO"
      },
      "outputs": [],
      "source": []
    }
  ],
  "metadata": {
    "colab": {
      "name": "Determinants of Earnings (start).ipynb",
      "provenance": [],
      "toc_visible": true
    },
    "kernelspec": {
      "display_name": "Python 3",
      "language": "python",
      "name": "python3"
    },
    "language_info": {
      "codemirror_mode": {
        "name": "ipython",
        "version": 3
      },
      "file_extension": ".py",
      "mimetype": "text/x-python",
      "name": "python",
      "nbconvert_exporter": "python",
      "pygments_lexer": "ipython3",
      "version": "3.9.7"
    },
    "vscode": {
      "interpreter": {
        "hash": "aee8b7b246df8f9039afb4144a1f6fd8d2ca17a180786b69acc140d282b71a49"
      }
    }
  },
  "nbformat": 4,
  "nbformat_minor": 0
}
